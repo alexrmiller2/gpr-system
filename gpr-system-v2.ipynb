{
 "cells": [
  {
   "cell_type": "code",
   "execution_count": 1,
   "id": "40c0ee64-6a15-4428-b959-9e874e7b454a",
   "metadata": {
    "jupyter": {
     "source_hidden": true
    }
   },
   "outputs": [
    {
     "data": {},
     "execution_count": 1,
     "metadata": {},
     "output_type": "execute_result"
    }
   ],
   "source": [
    "%matplotlib widget\n",
    "from IPython.display import clear_output\n",
    "import time\n",
    "import numpy as np\n",
    "import pandas as pd\n",
    "import matplotlib.pyplot as plt\n",
    "import matplotlib.dates as mdates\n",
    "from datetime import datetime\n",
    "import polars as pl\n",
    "from sklearn.gaussian_process import GaussianProcessRegressor\n",
    "from sklearn.gaussian_process.kernels import Matern\n",
    "from sklearn.metrics import mean_squared_error as mse\n",
    "plt.ion()"
   ]
  },
  {
   "cell_type": "code",
   "execution_count": 2,
   "id": "d1e0e00e-7053-4718-ba69-fc9dbbfb487a",
   "metadata": {},
   "outputs": [
    {
     "data": {},
     "metadata": {},
     "output_type": "display_data"
    },
    {
     "name": "stdout",
     "output_type": "stream",
     "text": []
    }
   ],
   "source": [
    "fileName = \"GBPUSD_M1.csv\"\n",
    "data = pd.read_csv(fileName)\n",
    "\n",
    "priceData = pl.DataFrame(data[[\"Time\", \"Close\"]]).select([\n",
    "    pl.col(\"Time\").str.strptime(pl.Datetime, \"%Y-%m-%d %H:%M\"),\n",
    "    pl.col(\"Close\")\n",
    "])\n",
    "priceData = (\n",
    "    priceData.sort(by=\"Time\")\n",
    "    .drop_nulls()\n",
    ")\n",
    "timeSeriesM = priceData.select(pl.col(\"Time\").dt.timestamp()).to_numpy()\n",
    "priceSeriesM = priceData.select(pl.col(\"Close\")).to_numpy()\n",
    "\n",
    "priceData = (\n",
    "    priceData.group_by_dynamic(\"Time\", every=\"1h\")\n",
    "    .agg(pl.col(\"Close\").median())\n",
    ")\n",
    "\n",
    "timeSeries = priceData.select(pl.col(\"Time\").dt.timestamp()).to_numpy()\n",
    "priceSeries = priceData.select(pl.col(\"Close\")).to_numpy()\n",
    "\n",
    "\n",
    "fig = plt.figure(fileName)\n",
    "plt.clf()\n",
    "plt.plot([datetime.fromtimestamp(timestamp/1e6) for timestamp in timeSeriesM[:,0]],priceSeriesM)\n",
    "plt.title(\"\")\n",
    "plt.show()\n",
    "\n",
    "print(timeSeries.shape, priceSeries.shape)"
   ]
  },
  {
   "cell_type": "code",
   "execution_count": 3,
   "id": "9e297752",
   "metadata": {},
   "outputs": [],
   "source": [
    "def plotGPR(timeSeries, meanSeries, stdSeries, onlyLatestValue):\n",
    "    if onlyLatestValue: \n",
    "        color = 'darkorange'\n",
    "        label1 = 'Predicted Mean'\n",
    "        label2 = 'Predicted 95% Confidence'\n",
    "    else: \n",
    "        color = 'darkgreen'\n",
    "        label1 = 'True Mean'\n",
    "        label2 = 'True 95% Confidence'\n",
    "    \n",
    "    plt.scatter([datetime.fromtimestamp(timestamp/1e6) for timestamp in timeSeries], meanSeries,color= color, label= label1)\n",
    "    plt.fill_between(\n",
    "        [datetime.fromtimestamp(timestamp/1e6) for timestamp in timeSeries],\n",
    "        meanSeries - 1.96 * stdSeries,\n",
    "        meanSeries + 1.96 * stdSeries,\n",
    "        alpha=0.5,\n",
    "        color= color,\n",
    "        label= label2\n",
    "    )\n",
    "    date_format = mdates.DateFormatter('%b %d')\n",
    "    plt.gcf().axes[0].xaxis.set_major_formatter(date_format)\n",
    "    plt.legend()\n",
    "    \n"
   ]
  },
  {
   "cell_type": "code",
   "execution_count": 40,
   "id": "ff9036af",
   "metadata": {},
   "outputs": [
    {
     "name": "stdout",
     "output_type": "stream",
     "text": []
    },
    {
     "data": {},
     "metadata": {},
     "output_type": "display_data"
    },
    {
     "name": "stdout",
     "output_type": "stream",
     "text": []
    }
   ],
   "source": [
    "def gprPredict(start, window, onlyLatestValue):\n",
    "    projectSamples = 0\n",
    "\n",
    "    X = timeSeries[start-window:start,0].reshape(-1,1)\n",
    "    y = priceSeries[start-window:start,0]\n",
    "   \n",
    "    kernel = 1.0 * Matern(length_scale=1.0, nu=1.5)\n",
    "    gpr = GaussianProcessRegressor(kernel=kernel, n_restarts_optimizer=1)\n",
    "    gpr.fit(X, y)\n",
    "\n",
    "    if onlyLatestValue: Xtest = np.linspace(X[0,0],X[-1,0]+1,100).reshape(-1,1)\n",
    "    else: Xtest = X\n",
    "\n",
    "    print(Xtest.shape)\n",
    "\n",
    "    meanPred, stdPred = gpr.predict(Xtest, return_std=True)\n",
    "\n",
    "    if onlyLatestValue: return np.array([[Xtest[-1, 0], meanPred[-1], stdPred[-1]]])\n",
    "\n",
    "       \n",
    "    #else: return np.column_stack((Xtest, meanPred, stdPred))\n",
    "\n",
    "# Backtest the GPR function.\n",
    "\n",
    "startTime = -3000 # Number of hours in history\n",
    "n = 200 # Number of samples to process per GPR\n",
    "testRange = 5 # Number of GPR tests to conduct over time\n",
    "\n",
    "predictSeries = gprPredict(startTime, n, True)\n",
    "for i in range(1, testRange):\n",
    "    predictSeries = np.vstack((predictSeries, gprPredict(startTime+i, n, True)))\n",
    "\n",
    "    print(f\"{i}/{testRange} tests computed...\")\n",
    "\n",
    "print(\"All tests computed with no errors.\")\n",
    "#trueSeries = gprPredict(startTime+testRange-1, n, False)\n",
    "#trueSeries = trueSeries[-testRange:]\n",
    "\n",
    "#predictMSE = [mse(predictSeries[:,1], trueSeries[:,1]),mse(predictSeries[:,2], trueSeries[:,2])]\n",
    "#print(\"MSE[mean,std]: \", predictMSE)\n",
    "\n",
    "fig = plt.figure(2)\n",
    "plt.clf()\n",
    "plotGPR(predictSeries[:,0], predictSeries[:,1], predictSeries[:,2], True)\n",
    "#plotGPR(trueSeries[:,0], trueSeries[:,1], trueSeries[:,2], False)\n",
    "\n",
    "plt.plot([datetime.fromtimestamp(timestamp/1e6) for timestamp in timeSeriesM[:,0]],priceSeriesM)\n",
    "\n",
    "#plt.xlim(datetime.fromtimestamp(predictSeries[0,0]/1e6),datetime.fromtimestamp(predictSeries[0,-1]/1e6))\n",
    "\n",
    "\n",
    "plt.show()\n",
    "\n",
    "print(predictSeries[:,2])\n"
   ]
  },
  {
   "cell_type": "code",
   "execution_count": null,
   "id": "6ce48041",
   "metadata": {},
   "outputs": [],
   "source": []
  }
 ],
 "metadata": {
  "kernelspec": {
   "display_name": "machine-learning-env",
   "language": "python",
   "name": "python3"
  },
  "language_info": {
   "codemirror_mode": {
    "name": "ipython",
    "version": 3
   },
   "file_extension": ".py",
   "mimetype": "text/x-python",
   "name": "python",
   "nbconvert_exporter": "python",
   "pygments_lexer": "ipython3",
   "version": "3.9.21"
  }
 },
 "nbformat": 4,
 "nbformat_minor": 5
}
